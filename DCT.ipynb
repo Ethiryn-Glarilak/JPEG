{
 "cells": [
  {
   "cell_type": "code",
   "execution_count": 81,
   "metadata": {},
   "outputs": [],
   "source": [
    "import numpy\n",
    "import matplotlib.pyplot as plt"
   ]
  },
  {
   "cell_type": "code",
   "execution_count": 82,
   "metadata": {},
   "outputs": [],
   "source": [
    "def d8_value(x, y):\n",
    "    n = 8\n",
    "    alpha = (x == 0).astype(int)\n",
    "    alpha[alpha == 0] = 2\n",
    "    alpha = numpy.sqrt(alpha / n)\n",
    "    return numpy.around(alpha * numpy.cos((numpy.pi * (2 * y + 1) * x) / (2 * n)), 4)\n"
   ]
  },
  {
   "cell_type": "code",
   "execution_count": 83,
   "metadata": {},
   "outputs": [
    {
     "name": "stdout",
     "output_type": "stream",
     "text": [
      "[[ 0.3536  0.3536  0.3536  0.3536  0.3536  0.3536  0.3536  0.3536]\n",
      " [ 0.4904  0.4157  0.2778  0.0975 -0.0975 -0.2778 -0.4157 -0.4904]\n",
      " [ 0.4619  0.1913 -0.1913 -0.4619 -0.4619 -0.1913  0.1913  0.4619]\n",
      " [ 0.4157 -0.0975 -0.4904 -0.2778  0.2778  0.4904  0.0975 -0.4157]\n",
      " [ 0.3536 -0.3536 -0.3536  0.3536  0.3536 -0.3536 -0.3536  0.3536]\n",
      " [ 0.2778 -0.4904  0.0975  0.4157 -0.4157 -0.0975  0.4904 -0.2778]\n",
      " [ 0.1913 -0.4619  0.4619 -0.1913 -0.1913  0.4619 -0.4619  0.1913]\n",
      " [ 0.0975 -0.2778  0.4157 -0.4904  0.4904 -0.4157  0.2778 -0.0975]]\n"
     ]
    }
   ],
   "source": [
    "d8 = numpy.fromfunction(d8_value, shape=(8, 8))\n",
    "print(d8)\n"
   ]
  },
  {
   "cell_type": "code",
   "execution_count": 84,
   "metadata": {},
   "outputs": [
    {
     "name": "stdout",
     "output_type": "stream",
     "text": [
      "[[1036    0  232    0  228    0  -60    0]\n",
      " [ -14    0  243    0 -181    0 -224    0]\n",
      " [  78    0  -97    0 -108    0  290    0]\n",
      " [ -74    0   75    0  -68    0   82    0]\n",
      " [  42    0   51    0 -122    0   21    0]\n",
      " [ 162    0 -163    0   21    0   56    0]\n",
      " [   6    0  -99    0  127    0   -8    0]\n",
      " [  47    0   52    0 -126    0   19    0]]\n"
     ]
    },
    {
     "data": {
      "image/png": "[encoded data removed]",
      "text/plain": [
       "<Figure size 432x288 with 1 Axes>"
      ]
     },
     "metadata": {
      "needs_background": "light"
     },
     "output_type": "display_data"
    }
   ],
   "source": [
    "image = numpy.array([\n",
    "    [192, 192, 192,  33,  33, 192, 192, 192,],\n",
    "    [192, 192,   0,   0,   0,   0, 192, 192,],\n",
    "    [192, 192,   0, 193, 192,   0, 192, 192,],\n",
    "    [192, 192,   0, 192, 192,   0, 192, 192,],\n",
    "    [192, 204,   0,   0,   0,   0, 205, 192,],\n",
    "    [192,   0,   0, 192, 192,   0,   0, 192,],\n",
    "    [192,  40, 219, 192, 192, 219,  41, 192,],\n",
    "    [192,   0, 192, 192, 192, 192,   0, 192,],\n",
    "])\n",
    "\n",
    "JD = numpy.around(d8.dot(image).dot(numpy.linalg.inv(d8)), 2)\n",
    "\n",
    "print(JD.astype(int))\n",
    "plt.imshow(image, cmap='gray')\n",
    "plt.show()"
   ]
  },
  {
   "cell_type": "code",
   "execution_count": 85,
   "metadata": {},
   "outputs": [],
   "source": [
    "def case(m, n, dim = 8):\n",
    "    x = numpy.repeat([d8[m]], 8, axis=0).T\n",
    "    y = numpy.repeat([d8[n]], 8, axis=0)\n",
    "\n",
    "    return x * y\n"
   ]
  },
  {
   "cell_type": "code",
   "execution_count": 86,
   "metadata": {},
   "outputs": [
    {
     "data": {
      "text/plain": [
       "<matplotlib.image.AxesImage at 0x7efc77b4a460>"
      ]
     },
     "execution_count": 86,
     "metadata": {},
     "output_type": "execute_result"
    },
    {
     "data": {
      "image/png": "[encoded data removed]",
      "text/plain": [
       "<Figure size 432x288 with 1 Axes>"
      ]
     },
     "metadata": {
      "needs_background": "light"
     },
     "output_type": "display_data"
    }
   ],
   "source": [
    "value = numpy.cos(numpy.pi / (2 * 8))**2 / 8 * 2\n",
    "plt.imshow(case(1, 1), cmap=\"gray\", vmin = -value, vmax = value)\n"
   ]
  },
  {
   "cell_type": "code",
   "execution_count": 87,
   "metadata": {},
   "outputs": [
    {
     "data": {
      "image/png": "[encoded data removed]",
      "text/plain": [
       "<Figure size 432x288 with 1 Axes>"
      ]
     },
     "metadata": {
      "needs_background": "light"
     },
     "output_type": "display_data"
    }
   ],
   "source": [
    "image_tout = numpy.zeros((8, 8))\n",
    "\n",
    "for k in range(8):\n",
    "    for i in range(8):\n",
    "        image_tout += case(k, i) * JD[k][i]\n",
    "\n",
    "image_tout = (numpy.around(image_tout) - numpy.min(image_tout)).astype(int)\n",
    "\n",
    "plt.imshow(image_tout, cmap='gray')\n",
    "plt.show()\n"
   ]
  },
  {
   "cell_type": "code",
   "execution_count": 88,
   "metadata": {},
   "outputs": [],
   "source": [
    "def image_state(n : int) -> numpy.ndarray:\n",
    "    image_partiel = numpy.zeros((8, 8))\n",
    "    JD_copy = numpy.moveaxis(numpy.abs(JD.copy()), 0, 1)\n",
    "    replace_min = numpy.min(JD_copy) - 1\n",
    "\n",
    "    for _ in range(n):\n",
    "        index = numpy.where(JD_copy == numpy.max(JD_copy))\n",
    "        y, x = index[0][0], index[1][0]\n",
    "        image_partiel += case(x, y) * JD[x][y]\n",
    "        JD_copy[y][x] = replace_min\n",
    "\n",
    "    return numpy.around(image_partiel)\n"
   ]
  },
  {
   "cell_type": "code",
   "execution_count": 89,
   "metadata": {},
   "outputs": [
    {
     "name": "stdout",
     "output_type": "stream",
     "text": [
      "[[  62.   62.   62.  -97.  -97.   62.   62.   62.]\n",
      " [  62.   62. -130. -130. -130. -130.   62.   62.]\n",
      " [  62.   62. -130.   63.   62. -130.   62.   62.]\n",
      " [  62.   62. -130.   62.   62. -130.   62.   62.]\n",
      " [  62.   74. -130. -130. -130. -130.   75.   62.]\n",
      " [  62. -130. -130.   62.   62. -130. -130.   62.]\n",
      " [  62.  -90.   89.   62.   62.   89.  -89.   62.]\n",
      " [  62. -130.   62.   62.   62.   62. -130.   62.]]\n"
     ]
    },
    {
     "data": {
      "image/png": "[encoded data removed]",
      "text/plain": [
       "<Figure size 432x288 with 3 Axes>"
      ]
     },
     "metadata": {
      "needs_background": "light"
     },
     "output_type": "display_data"
    }
   ],
   "source": [
    "image_partiel = image_state(1)\n",
    "plt.subplot(1, 3, 1)\n",
    "plt.imshow(image, cmap = \"gray\", vmin = 0, vmax = 255)\n",
    "plt.subplot(1, 3, 2)\n",
    "plt.imshow(image_partiel, cmap = \"gray\", vmin = 0, vmax = 255)\n",
    "plt.subplot(1, 3, 3)\n",
    "plt.imshow(image - image_partiel, cmap = \"gray\", vmin = -255, vmax = 255)\n",
    "print(image - image_partiel)\n",
    "plt.show()\n"
   ]
  },
  {
   "cell_type": "code",
   "execution_count": 90,
   "metadata": {},
   "outputs": [],
   "source": [
    "def root_mean_square_error(image):\n",
    "    return numpy.sqrt((image ** 2).sum() / (image.shape[0] * image.shape[1]))\n",
    "\n",
    "def signal_to_noise_ratio(default, image):\n",
    "    return 10 * numpy.log10((default ** 2).sum() / ((image ** 2).sum() + 1))\n"
   ]
  },
  {
   "cell_type": "code",
   "execution_count": 91,
   "metadata": {},
   "outputs": [
    {
     "name": "stdout",
     "output_type": "stream",
     "text": [
      "57.7 8.7\n",
      "25.0 16.0\n",
      "16.7 19.5\n",
      "0.9 45.2\n",
      "0.2 56.0\n"
     ]
    },
    {
     "data": {
      "image/png": "[encoded data removed]",
      "text/plain": [
       "<Figure size 432x288 with 1 Axes>"
      ]
     },
     "metadata": {
      "needs_background": "light"
     },
     "output_type": "display_data"
    }
   ],
   "source": [
    "x = [k for k in range(64)]\n",
    "RSME = [root_mean_square_error(image - image_state(k)) for k in x]\n",
    "SNR = [signal_to_noise_ratio(image, image - image_state(k)) for k in x]\n",
    "\n",
    "for i in (6, 16, 20, 31, 32):\n",
    "    print(numpy.around(RSME[i], 1), numpy.around(SNR[i], 1))\n",
    "\n",
    "plt.plot(x, RSME, SNR)\n",
    "plt.axis([0, 63, 0, 90])\n",
    "plt.show()\n"
   ]
  }
 ],
 "metadata": {
  "interpreter": {
   "hash": "31f2aee4e71d21fbe5cf8b01ff0e069b9275f58929596ceb00d14d90e3e16cd6"
  },
  "kernelspec": {
   "display_name": "Python 3.9.7 64-bit",
   "language": "python",
   "name": "python3"
  },
  "language_info": {
   "codemirror_mode": {
    "name": "ipython",
    "version": 3
   },
   "file_extension": ".py",
   "mimetype": "text/x-python",
   "name": "python",
   "nbconvert_exporter": "python",
   "pygments_lexer": "ipython3",
   "version": "3.9.7"
  },
  "orig_nbformat": 4
 },
 "nbformat": 4,
 "nbformat_minor": 2
}
