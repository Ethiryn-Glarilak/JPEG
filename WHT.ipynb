{
 "cells": [
  {
   "cell_type": "code",
   "execution_count": 5,
   "metadata": {},
   "outputs": [],
   "source": [
    "import numpy\n",
    "import matplotlib.pyplot as plt"
   ]
  },
  {
   "cell_type": "code",
   "execution_count": 6,
   "metadata": {},
   "outputs": [
    {
     "name": "stdout",
     "output_type": "stream",
     "text": [
      "[[ 8291    -1  1905    -3  1827     3   265     1]\n",
      " [  291     3  1801     1  -925    -1 -1167    -3]\n",
      " [  559    -1 -1215     1 -1197    -1  1853     1]\n",
      " [-1197    -1  1853     1  -977    -1   321     1]\n",
      " [  339    -1   317     1  -977    -1   321     1]\n",
      " [  559    -1 -1215     1   339    -1   317     1]\n",
      " [  291     3 -1271     1   611    -1   369    -3]\n",
      " [  611    -1   369    -3 -1245     3   265     1]]\n"
     ]
    },
    {
     "data": {
      "image/png": "[encoded data removed]",
      "text/plain": [
       "<Figure size 432x288 with 1 Axes>"
      ]
     },
     "metadata": {
      "needs_background": "light"
     },
     "output_type": "display_data"
    }
   ],
   "source": [
    "h8 = numpy.array(\n",
    "    [\n",
    "        [ 1,  1,  1,  1,  1,  1,  1,  1,],\n",
    "        [ 1,  1,  1,  1, -1, -1, -1, -1,],\n",
    "        [ 1,  1, -1, -1, -1, -1,  1,  1,],\n",
    "        [ 1,  1, -1, -1,  1,  1, -1, -1,],\n",
    "        [ 1, -1, -1,  1,  1, -1, -1,  1,],\n",
    "        [ 1, -1, -1,  1, -1,  1,  1, -1,],\n",
    "        [ 1, -1,  1, -1, -1,  1, -1,  1,],\n",
    "        [ 1, -1,  1, -1,  1, -1,  1, -1,],\n",
    "    ]\n",
    ") / (2 * numpy.sqrt(2))\n",
    "\n",
    "image = numpy.array([\n",
    "    [192, 192, 192,  33,  33, 192, 192, 192,],\n",
    "    [192, 192,   0,   0,   0,   0, 192, 192,],\n",
    "    [192, 192,   0, 193, 192,   0, 192, 192,],\n",
    "    [192, 192,   0, 192, 192,   0, 192, 192,],\n",
    "    [192, 204,   0,   0,   0,   0, 205, 192,],\n",
    "    [192,   0,   0, 192, 192,   0,   0, 192,],\n",
    "    [192,  40, 219, 192, 192, 219,  41, 192,],\n",
    "    [192,   0, 192, 192, 192, 192,   0, 192,],\n",
    "])\n",
    "\n",
    "JH = numpy.around(h8.dot(image).dot(h8) * 8).astype(int)\n",
    "\n",
    "print(JH)\n",
    "plt.imshow(image, cmap='gray')\n",
    "plt.show()"
   ]
  },
  {
   "cell_type": "code",
   "execution_count": 7,
   "metadata": {},
   "outputs": [
    {
     "data": {
      "image/png": "[encoded data removed]",
      "text/plain": [
       "<Figure size 432x288 with 1 Axes>"
      ]
     },
     "metadata": {
      "needs_background": "light"
     },
     "output_type": "display_data"
    }
   ],
   "source": [
    "table = [\n",
    "    [0, 0, 0, 0, 0, 0, 0, 0],\n",
    "    [0, 0, 0, 0, 1, 1, 1, 1],\n",
    "    [0, 0, 1, 1, 1, 1, 0, 0],\n",
    "    [0, 0, 1, 1, 0, 0, 1, 1],\n",
    "    [0, 1, 1, 0, 0, 1, 1, 0],\n",
    "    [0, 1, 1, 0, 1, 0, 0, 1],\n",
    "    [0, 1, 0, 1, 1, 0, 1, 0],\n",
    "    [0, 1, 0, 1, 0, 1, 0, 1],\n",
    "]\n",
    "\n",
    "def case(x : int, y : int) -> numpy.ndarray:\n",
    "    x_array = numpy.array([table[x] for _ in range(8)]).T\n",
    "    y_array = numpy.array([table[y] for _ in range(8)])\n",
    "    return numpy.abs(numpy.abs(x_array - y_array) - 1)\n",
    "\n",
    "\n",
    "image_tout = numpy.zeros((8, 8))\n",
    "\n",
    "for k in range(8):\n",
    "    for i in range(8):\n",
    "        image_tout += case(k, i) * JH[k][i] / 32\n",
    "\n",
    "image_tout = (numpy.around(image_tout) - numpy.min(image_tout)).astype(int)\n",
    "\n",
    "plt.imshow(image_tout, cmap='gray')\n",
    "plt.imshow(image_tout, cmap='gray')\n",
    "plt.show()\n"
   ]
  },
  {
   "cell_type": "code",
   "execution_count": 8,
   "metadata": {},
   "outputs": [],
   "source": [
    "def case(x : int, y : int) -> numpy.ndarray:\n",
    "    table = [\n",
    "        [0, 0, 0, 0, 0, 0, 0, 0],\n",
    "        [0, 0, 0, 0, 1, 1, 1, 1],\n",
    "        [0, 0, 1, 1, 1, 1, 0, 0],\n",
    "        [0, 0, 1, 1, 0, 0, 1, 1],\n",
    "        [0, 1, 1, 0, 0, 1, 1, 0],\n",
    "        [0, 1, 1, 0, 1, 0, 0, 1],\n",
    "        [0, 1, 0, 1, 1, 0, 1, 0],\n",
    "        [0, 1, 0, 1, 0, 1, 0, 1],\n",
    "    ]\n",
    "    x_array = numpy.array([table[x] for _ in range(8)]).T\n",
    "    y_array = numpy.array([table[y] for _ in range(8)])\n",
    "    grille = x_array + y_array\n",
    "    grille[grille == 1] = -1\n",
    "    grille[grille == 0] =  1\n",
    "    grille[grille == 2] =  1\n",
    "    return grille\n"
   ]
  },
  {
   "cell_type": "code",
   "execution_count": 9,
   "metadata": {},
   "outputs": [],
   "source": [
    "def image_state(n : int) -> numpy.ndarray:\n",
    "    image_partiel = numpy.zeros((8, 8))\n",
    "    JH_copy = numpy.moveaxis(numpy.abs(JH.copy()), 0, 1)\n",
    "    replace_min = numpy.min(JH_copy) - 1\n",
    "\n",
    "    for _ in range(n):\n",
    "        index = numpy.where(JH_copy == numpy.max(JH_copy))\n",
    "        y, x = index[0][0], index[1][0]\n",
    "        image_partiel += case(x, y) * JH[x][y]\n",
    "        JH_copy[y][x] = replace_min\n",
    "\n",
    "    return numpy.around(image_partiel / 64)\n"
   ]
  },
  {
   "cell_type": "code",
   "execution_count": 25,
   "metadata": {},
   "outputs": [
    {
     "name": "stdout",
     "output_type": "stream",
     "text": [
      "[[0. 0. 0. 0. 0. 0. 0. 0.]\n",
      " [0. 0. 0. 0. 0. 0. 0. 0.]\n",
      " [0. 0. 0. 1. 0. 0. 0. 0.]\n",
      " [0. 0. 0. 0. 0. 0. 0. 0.]\n",
      " [0. 0. 0. 0. 0. 0. 1. 0.]\n",
      " [0. 0. 0. 0. 0. 0. 0. 0.]\n",
      " [0. 0. 0. 0. 0. 0. 1. 0.]\n",
      " [0. 0. 0. 0. 0. 0. 0. 0.]]\n"
     ]
    },
    {
     "data": {
      "image/png": "[encoded data removed]",
      "text/plain": [
       "<Figure size 432x288 with 3 Axes>"
      ]
     },
     "metadata": {
      "needs_background": "light"
     },
     "output_type": "display_data"
    }
   ],
   "source": [
    "image_partiel = image_state(32)\n",
    "plt.subplot(1, 3, 1)\n",
    "plt.imshow(image, cmap = \"gray\", vmin = 0, vmax = 255)\n",
    "plt.subplot(1, 3, 2)\n",
    "plt.imshow(image_partiel, cmap = \"gray\", vmin = 0, vmax = 255)\n",
    "plt.subplot(1, 3, 3)\n",
    "plt.imshow(image - image_partiel, cmap = \"gray\", vmin = -255, vmax = 255)\n",
    "print(image - image_partiel)\n",
    "plt.show()"
   ]
  },
  {
   "cell_type": "code",
   "execution_count": 11,
   "metadata": {},
   "outputs": [
    {
     "data": {
      "text/plain": [
       "<matplotlib.image.AxesImage at 0x7f820876ee50>"
      ]
     },
     "execution_count": 11,
     "metadata": {},
     "output_type": "execute_result"
    },
    {
     "data": {
      "image/png": "[encoded data removed]",
      "text/plain": [
       "<Figure size 432x288 with 1 Axes>"
      ]
     },
     "metadata": {
      "needs_background": "light"
     },
     "output_type": "display_data"
    }
   ],
   "source": [
    "plt.imshow(case(7, 7), cmap='gray', vmax = 1, vmin = -1)"
   ]
  },
  {
   "cell_type": "code",
   "execution_count": 80,
   "metadata": {},
   "outputs": [],
   "source": [
    "def root_mean_square_error(image):\n",
    "    return numpy.sqrt((image ** 2).sum() / (image.shape[0] * image.shape[1]))\n",
    "\n",
    "def signal_to_noise_ratio(default, image):\n",
    "    return 10 * numpy.log10((default ** 2).sum() / ((image ** 2).sum() + 1))\n"
   ]
  },
  {
   "cell_type": "code",
   "execution_count": 84,
   "metadata": {},
   "outputs": [
    {
     "name": "stdout",
     "output_type": "stream",
     "text": [
      "61.9 8.1\n",
      "25.2 15.9\n",
      "17.2 19.3\n",
      "4.1 31.8\n",
      "0.2 56.0\n"
     ]
    },
    {
     "data": {
      "image/png": "[encoded data removed]",
      "text/plain": [
       "<Figure size 432x288 with 1 Axes>"
      ]
     },
     "metadata": {
      "needs_background": "light"
     },
     "output_type": "display_data"
    }
   ],
   "source": [
    "x = [k for k in range(64)]\n",
    "RSME = [root_mean_square_error(image - image_state(k)) for k in x]\n",
    "SNR = [signal_to_noise_ratio(image, image - image_state(k)) for k in x]\n",
    "\n",
    "for i in (6, 16, 20, 31, 32):\n",
    "    print(numpy.around(RSME[i], 1), numpy.around(SNR[i], 1))\n",
    "\n",
    "plt.plot(x, RSME, SNR)\n",
    "plt.axis([0, 63, 0, 90])\n",
    "plt.show()\n"
   ]
  }
 ],
 "metadata": {
  "interpreter": {
   "hash": "31f2aee4e71d21fbe5cf8b01ff0e069b9275f58929596ceb00d14d90e3e16cd6"
  },
  "kernelspec": {
   "display_name": "Python 3.9.7 64-bit",
   "language": "python",
   "name": "python3"
  },
  "language_info": {
   "codemirror_mode": {
    "name": "ipython",
    "version": 3
   },
   "file_extension": ".py",
   "mimetype": "text/x-python",
   "name": "python",
   "nbconvert_exporter": "python",
   "pygments_lexer": "ipython3",
   "version": "3.9.7"
  },
  "orig_nbformat": 4
 },
 "nbformat": 4,
 "nbformat_minor": 2
}
