{
 "cells": [
  {
   "cell_type": "code",
   "execution_count": 86,
   "metadata": {},
   "outputs": [],
   "source": [
    "import numpy\n",
    "import matplotlib.pyplot as plt"
   ]
  },
  {
   "cell_type": "code",
   "execution_count": 87,
   "metadata": {},
   "outputs": [],
   "source": [
    "def d8_value(x, y, n = 8):\n",
    "    alpha = (x == 0).astype(int)\n",
    "    alpha[alpha == 0] = 2\n",
    "    alpha = numpy.sqrt(alpha / n)\n",
    "    return numpy.around(alpha * numpy.cos((numpy.pi * (2 * y + 1) * x) / (2 * n)), 4)\n"
   ]
  },
  {
   "cell_type": "code",
   "execution_count": 88,
   "metadata": {},
   "outputs": [],
   "source": [
    "def JD_calcul(image : numpy.ndarray, d8 : numpy.ndarray, around : int = 2) -> numpy.ndarray:\n",
    "    return numpy.around(d8.dot(image).dot(numpy.linalg.inv(d8)), around)\n"
   ]
  },
  {
   "cell_type": "code",
   "execution_count": 89,
   "metadata": {},
   "outputs": [],
   "source": [
    "def case(m, n, table, dim = 8):\n",
    "    x = numpy.repeat([table[m]], 8, axis=0).T\n",
    "    y = numpy.repeat([table[n]], 8, axis=0)\n",
    "    return x * y\n"
   ]
  },
  {
   "cell_type": "code",
   "execution_count": 90,
   "metadata": {},
   "outputs": [],
   "source": [
    "def image_state(n : int, JD : numpy.ndarray) -> numpy.ndarray:\n",
    "    image_partiel = numpy.zeros((8, 8))\n",
    "    JD_copy = numpy.moveaxis(numpy.abs(JD.copy()), 0, 1)\n",
    "    replace_min = numpy.min(JD_copy) - 1\n",
    "\n",
    "    for _ in range(n):\n",
    "        index = numpy.where(JD_copy == numpy.max(JD_copy))\n",
    "        y, x = index[0][0], index[1][0]\n",
    "        image_partiel += case(x, y) * JD[x][y]\n",
    "        JD_copy[y][x] = replace_min\n",
    "\n",
    "    return numpy.around(image_partiel)\n"
   ]
  },
  {
   "cell_type": "code",
   "execution_count": 91,
   "metadata": {},
   "outputs": [],
   "source": [
    "def show_state(image, state = 1):\n",
    "    image_partiel = image_state(state)\n",
    "    plt.subplot(1, 3, 1)\n",
    "    plt.imshow(image, cmap = \"gray\", vmin = 0, vmax = 255)\n",
    "    plt.subplot(1, 3, 2)\n",
    "    plt.imshow(image_partiel, cmap = \"gray\", vmin = 0, vmax = 255)\n",
    "    plt.subplot(1, 3, 3)\n",
    "    plt.imshow(image - image_partiel, cmap = \"gray\", vmin = -255, vmax = 255)\n",
    "    print(image - image_partiel)\n",
    "    plt.show()\n"
   ]
  },
  {
   "cell_type": "code",
   "execution_count": 92,
   "metadata": {},
   "outputs": [],
   "source": [
    "def root_mean_square_error(image):\n",
    "    return numpy.sqrt((image ** 2).sum() / (image.shape[0] * image.shape[1]))\n",
    "\n",
    "def signal_to_noise_ratio(default, image):\n",
    "    return 10 * numpy.log10((default ** 2).sum() / ((image ** 2).sum() + 1))\n"
   ]
  },
  {
   "cell_type": "code",
   "execution_count": 93,
   "metadata": {},
   "outputs": [],
   "source": [
    "def show_courbe(image):\n",
    "    x = [k for k in range(64)]\n",
    "    RSME = [root_mean_square_error(image - image_state(k)) for k in x]\n",
    "    SNR = [signal_to_noise_ratio(image, image - image_state(k)) for k in x]\n",
    "\n",
    "    for i in (6, 16, 20, 31, 32):\n",
    "        print(numpy.around(RSME[i], 1), numpy.around(SNR[i], 1))\n",
    "\n",
    "    plt.plot(x, RSME, SNR)\n",
    "    plt.axis([0, 63, 0, 90])\n",
    "    plt.show()\n"
   ]
  },
  {
   "cell_type": "code",
   "execution_count": 94,
   "metadata": {},
   "outputs": [],
   "source": [
    "def DCT(image : numpy.ndarray) -> numpy.ndarray:\n",
    "    \"\"\"Return matrices of DCT from image\"\"\"\n",
    "    return JD_calcul(image, numpy.fromfunction(d8_value, shape=(8, 8)))\n"
   ]
  },
  {
   "cell_type": "code",
   "execution_count": 95,
   "metadata": {},
   "outputs": [],
   "source": [
    "def image() -> numpy.ndarray:\n",
    "    \"\"\"Return image\"\"\"\n",
    "    return numpy.array([\n",
    "    [52, 55, 61,  66,  70,  61, 64, 73,],\n",
    "    [63, 59, 55,  90, 109,  85, 69, 72,],\n",
    "    [62, 59, 68, 113, 144, 104, 66, 73,],\n",
    "    [63, 58, 71, 122, 154, 106, 70, 69,],\n",
    "    [67, 61, 68, 104, 126,  88, 68, 70,],\n",
    "    [79, 65, 60,  70,  77,  68, 58, 75,],\n",
    "    [85, 71, 64,  59,  55,  61, 65, 83,],\n",
    "    [87, 79, 69,  68,  65,  76, 78, 94,],\n",
    "    ])\n"
   ]
  },
  {
   "cell_type": "code",
   "execution_count": 96,
   "metadata": {},
   "outputs": [],
   "source": [
    "def coefficient(value : int) -> numpy.ndarray:\n",
    "    if value > 100 or value < 1:\n",
    "        value = 50\n",
    "        print(\"Value must be between 1 and 100\")\n",
    "    if value < 50:\n",
    "        alpha = 5000 / value\n",
    "    else:\n",
    "        alpha = 200 - 2 * value\n",
    "\n",
    "    return ((numpy.array([\n",
    "        [16, 11, 10, 16,  24,  40,  51,  61,],\n",
    "        [12, 12, 14, 19,  26,  58,  60,  55,],\n",
    "        [14, 13, 16, 24,  40,  57,  69,  56,],\n",
    "        [14, 17, 22, 29,  51,  87,  80,  62,],\n",
    "        [18, 22, 37, 56,  68, 109, 103,  77,],\n",
    "        [24, 35, 55, 64,  81, 104, 113,  92,],\n",
    "        [49, 64, 78, 87, 103, 121, 120, 101,],\n",
    "        [72, 92, 95, 98, 112, 100, 103,  99,],\n",
    "    ]) * alpha + 50) / 100).astype(int)"
   ]
  },
  {
   "cell_type": "code",
   "execution_count": 97,
   "metadata": {},
   "outputs": [],
   "source": [
    "def quantized(image : numpy.ndarray, coefficient : numpy.ndarray) -> numpy.ndarray:\n",
    "    return image/coefficient\n"
   ]
  },
  {
   "cell_type": "code",
   "execution_count": 98,
   "metadata": {},
   "outputs": [],
   "source": [
    "def zigzag_ordering(image : numpy.ndarray) -> list[int]:\n",
    "    def sort(position):\n",
    "        x, y = position\n",
    "        return (x + y, -y if (x + y) % 2 else y)\n",
    "    index = range(image.shape[0])\n",
    "    zigzag = []\n",
    "    last = 0\n",
    "    for index, (x, y) in enumerate(sorted(((x, y) for x in index for y in index), key = sort)):\n",
    "        zigzag.append(image[x][y])\n",
    "        if image[x][y] != 0:\n",
    "            last = index\n",
    "    return zigzag[:last + 1] + [\"EOB\"]\n"
   ]
  },
  {
   "cell_type": "code",
   "execution_count": 99,
   "metadata": {},
   "outputs": [],
   "source": [
    "def DC(value : int) -> str:\n",
    "    if value < 0:\n",
    "        binary = format(-value, \"b\").replace(\"1\", \"2\").replace(\"0\", \"1\").replace(\"2\", \"0\")\n",
    "    else:\n",
    "        binary = format(value, \"b\")\n",
    "    return [\"010\", \"011\", \"100\", \"00\", \"101\", \"110\", \"1110\", \"11110\", \"111110\", \"1111110\", \"11111110\", \"111111110\",][len(binary)] + binary\n"
   ]
  },
  {
   "cell_type": "code",
   "execution_count": 100,
   "metadata": {},
   "outputs": [],
   "source": [
    "def AC(value : int, run : int = 0) -> str:\n",
    "    if value == \"EOB\":\n",
    "        return \"1010\"\n",
    "    if value < 0:\n",
    "        binary = format(-value, \"b\").replace(\"1\", \"2\").replace(\"0\", \"1\").replace(\"2\", \"0\")\n",
    "    else:\n",
    "        binary = format(value, \"b\")\n",
    "    return [\n",
    "        [          \"00\",               \"01\",              \"100\",             \"1011\",            \"11010\",           \"111000\",          \"1111000\",       \"1111110110\", \"1111111110000010\", \"1111111110000011\",],\n",
    "        [        \"1100\",           \"111001\",          \"1111001\",        \"111110110\",      \"11111110110\", \"1111111110000100\", \"1111111110000101\", \"1111111110000110\", \"1111111110000111\", \"1111111110001000\",],\n",
    "        [       \"11011\",         \"11111000\",       \"1111110111\", \"1111111110001001\", \"1111111110001010\", \"1111111110001011\", \"1111111110001100\", \"1111111110001101\", \"1111111110001110\", \"1111111110001111\",],\n",
    "        [      \"111010\",        \"111110111\",       \"1111110111\", \"1111111110010000\", \"1111111110010001\", \"1111111110010010\", \"1111111110010011\", \"1111111110010100\", \"1111111110010101\", \"1111111110010110\",],\n",
    "        [      \"111011\",       \"1111111000\", \"1111111110010111\", \"1111111110011000\", \"1111111110011001\", \"1111111110011010\", \"1111111110011011\", \"1111111110011100\", \"1111111110011101\", \"1111111110011110\",],\n",
    "        [     \"1111010\",       \"1111111001\", \"1111111110011111\", \"1111111110100000\", \"1111111110100001\", \"1111111110100010\", \"1111111110100011\", \"1111111110100100\", \"1111111110100101\", \"1111111110100110\",],\n",
    "        [     \"1111011\",      \"11111111000\", \"1111111110100111\", \"1111111110101000\", \"1111111110101001\", \"1111111110101010\", \"1111111110101011\", \"1111111110101100\", \"1111111110101101\", \"1111111110101110\",],\n",
    "        [    \"11111001\",      \"11111111001\", \"1111111110101111\", \"1111111110110000\", \"1111111110110001\", \"1111111110110010\", \"1111111110110011\", \"1111111110110100\", \"1111111110110101\", \"1111111110110110\",],\n",
    "        [    \"11111010\",  \"111111111000000\", \"1111111110110111\", \"1111111110111000\", \"1111111110111001\", \"1111111110111010\", \"1111111110111011\", \"1111111110111100\", \"1111111110111101\", \"1111111110111110\",],\n",
    "        [   \"111111000\", \"1111111110111111\", \"1111111111000000\", \"1111111111000001\", \"1111111111000010\", \"1111111111000011\", \"1111111111000100\", \"1111111111000101\", \"1111111111000110\", \"1111111111000111\",],\n",
    "        [   \"111111001\", \"1111111111001000\", \"1111111111001001\", \"1111111111001010\", \"1111111111001011\", \"1111111111001100\", \"1111111111001101\", \"1111111111001110\", \"1111111111001111\", \"1111111111010000\",],\n",
    "        [   \"111111010\", \"1111111111010001\", \"1111111111000010\", \"1111111111010011\", \"1111111111010100\", \"1111111111010101\", \"1111111111010110\", \"1111111111010111\", \"1111111111011000\", \"1111111111011001\",],\n",
    "        [  \"1111111010\", \"1111111111011010\", \"1111111111011011\", \"1111111111011100\", \"1111111111011101\", \"1111111111011110\", \"1111111111011111\", \"1111111111100000\", \"1111111111100001\", \"1111111111100010\",],\n",
    "        [\"111111110110\", \"1111111111101100\", \"1111111111101101\", \"1111111111101110\", \"1111111111101111\", \"1111111111110000\", \"1111111111110001\", \"1111111111110010\", \"1111111111110011\", \"1111111111110100\",],\n",
    "        [\"111111110111\", \"1111111111110101\", \"1111111111110110\", \"1111111111110111\", \"1111111111111000\", \"1111111111111001\", \"1111111111111010\", \"1111111111111100\", \"1111111111111101\", \"1111111111111110\",],\n",
    "    ][run][len(binary) - 1] + binary\n"
   ]
  },
  {
   "cell_type": "code",
   "execution_count": 101,
   "metadata": {},
   "outputs": [],
   "source": [
    "def encode(image : list[int], last_value = 0) -> str:\n",
    "    jpeg = DC(image[0] - last_value)\n",
    "    count_0 = 0\n",
    "    for k in image[1:]:\n",
    "        if k == 0:\n",
    "            count_0 += 1\n",
    "        else:\n",
    "            jpeg += AC(k, count_0)\n",
    "            count_0 = 0\n",
    "    return jpeg\n"
   ]
  },
  {
   "cell_type": "code",
   "execution_count": 102,
   "metadata": {},
   "outputs": [
    {
     "name": "stdout",
     "output_type": "stream",
     "text": [
      "11011001000110000000101001000110001111100010110011010\n"
     ]
    }
   ],
   "source": [
    "print(encode(zigzag_ordering(numpy.around(quantized(DCT(image() - 128), coefficient(16)), 0).astype(int)), -33))"
   ]
  },
  {
   "cell_type": "code",
   "execution_count": 103,
   "metadata": {},
   "outputs": [],
   "source": [
    "def extractDC(jpeg : str, last_value : int = 0) -> tuple[list[int], int]:\n",
    "    index = 1\n",
    "    DC_code = {\n",
    "        \"010\"       : 0,\n",
    "        \"011\"       : 1,\n",
    "        \"100\"       : 2,\n",
    "        \"00\"        : 3,\n",
    "        \"101\"       : 4,\n",
    "        \"110\"       : 5,\n",
    "        \"1110\"      : 6,\n",
    "        \"11110\"     : 7,\n",
    "        \"111110\"    : 8,\n",
    "        \"1111110\"   : 9,\n",
    "        \"11111110\"  : 10,\n",
    "        \"111111110\" : 11,\n",
    "    }\n",
    "    while DC_code.get(jpeg[:index]) is None:\n",
    "        index += 1\n",
    "    index_end = index + DC_code.get(jpeg[:index])\n",
    "    if jpeg[index] == \"0\":\n",
    "        return - int(jpeg[index:index_end].replace(\"1\", \"2\").replace(\"0\", \"1\").replace(\"2\", \"0\"), 2) + last_value, index_end\n",
    "    else:\n",
    "        return [int(jpeg[index:index_end], 2) + last_value], index_end\n"
   ]
  },
  {
   "cell_type": "code",
   "execution_count": 104,
   "metadata": {},
   "outputs": [],
   "source": [
    "def extractAC(jpeg : str, index : int = 0) -> list[int]:\n",
    "    AC_code = {\n",
    "        \"1010\"             : \"EOB\",\n",
    "\n",
    "        \"00\"               : (0, 1),\n",
    "        \"01\"               : (0, 2),\n",
    "        \"100\"              : (0, 3),\n",
    "        \"1011\"             : (0, 4),\n",
    "        \"11010\"            : (0, 5),\n",
    "        \"111000\"           : (0, 6),\n",
    "        \"1111000\"          : (0, 7),\n",
    "        \"1111110110\"       : (0, 8),\n",
    "        \"1111111110000010\" : (0, 9),\n",
    "        \"1111111110000011\" : (0, 10),\n",
    "\n",
    "        \"1100\"             : (1, 1),\n",
    "        \"111001\"           : (1, 2),\n",
    "        \"1111001\"          : (1, 3),\n",
    "        \"111110110\"        : (1, 4),\n",
    "        \"11111110110\"      : (1, 5),\n",
    "        \"1111111110000100\" : (1, 6),\n",
    "        \"1111111110000101\" : (1, 7),\n",
    "        \"1111111110000110\" : (1, 8),\n",
    "        \"1111111110000111\" : (1, 9),\n",
    "        \"1111111110001000\" : (1, 10),\n",
    "\n",
    "        \"11011\"            : (2, 1),\n",
    "        \"11111000\"         : (2, 2),\n",
    "        \"1111110111\"       : (2, 3),\n",
    "        \"1111111110001001\" : (2, 4),\n",
    "        \"1111111110001010\" : (2, 5),\n",
    "        \"1111111110001011\" : (2, 6),\n",
    "        \"1111111110001100\" : (2, 7),\n",
    "        \"1111111110001101\" : (2, 8),\n",
    "        \"1111111110001110\" : (2, 9),\n",
    "        \"1111111110001111\" : (2, 10),\n",
    "\n",
    "        \"111010\"           : (3, 1),\n",
    "        \"111110111\"        : (3, 2),\n",
    "        \"1111110111\"       : (3, 3),\n",
    "        \"1111111110010000\" : (3, 4),\n",
    "        \"1111111110010001\" : (3, 5),\n",
    "        \"1111111110010010\" : (3, 6),\n",
    "        \"1111111110010011\" : (3, 7),\n",
    "        \"1111111110010100\" : (3, 8),\n",
    "        \"1111111110010101\" : (3, 9),\n",
    "        \"1111111110010110\" : (3, 10),\n",
    "\n",
    "        \"111011\"           : (4, 1),\n",
    "        \"1111111000\"       : (4, 2),\n",
    "        \"1111111110010111\" : (4, 3),\n",
    "        \"1111111110011000\" : (4, 4),\n",
    "        \"1111111110011001\" : (4, 5),\n",
    "        \"1111111110011010\" : (4, 6),\n",
    "        \"1111111110011011\" : (4, 7),\n",
    "        \"1111111110011100\" : (4, 8),\n",
    "        \"1111111110011101\" : (4, 9),\n",
    "        \"1111111110011110\" : (4, 10),\n",
    "\n",
    "        \"1111010\"          : (5, 1),\n",
    "        \"1111111001\"       : (5, 2),\n",
    "        \"1111111110011111\" : (5, 3),\n",
    "        \"1111111110100000\" : (5, 4),\n",
    "        \"1111111110100001\" : (5, 5),\n",
    "        \"1111111110100010\" : (5, 6),\n",
    "        \"1111111110100011\" : (5, 7),\n",
    "        \"1111111110100100\" : (5, 8),\n",
    "        \"1111111110100101\" : (5, 9),\n",
    "        \"1111111110100110\" : (5, 10),\n",
    "\n",
    "        \"1111011\"          : (6, 1),\n",
    "        \"11111111000\"      : (6, 2),\n",
    "        \"1111111110100111\" : (6, 3),\n",
    "        \"1111111110101000\" : (6, 4),\n",
    "        \"1111111110101001\" : (6, 5),\n",
    "        \"1111111110101010\" : (6, 6),\n",
    "        \"1111111110101011\" : (6, 7),\n",
    "        \"1111111110101100\" : (6, 8),\n",
    "        \"1111111110101101\" : (6, 9),\n",
    "        \"1111111110101110\" : (6, 10),\n",
    "\n",
    "        \"11111001\"         : (7, 1),\n",
    "        \"11111111001\"      : (7, 2),\n",
    "        \"1111111110101111\" : (7, 3),\n",
    "        \"1111111110110000\" : (7, 4),\n",
    "        \"1111111110110001\" : (7, 5),\n",
    "        \"1111111110110010\" : (7, 6),\n",
    "        \"1111111110110011\" : (7, 7),\n",
    "        \"1111111110110100\" : (7, 8),\n",
    "        \"1111111110110101\" : (7, 9),\n",
    "        \"1111111110110110\" : (7, 10),\n",
    "\n",
    "        \"11111010\"         : (8, 1),\n",
    "        \"111111111000000\"  : (8, 2),\n",
    "        \"1111111110110111\" : (8, 3),\n",
    "        \"1111111110111000\" : (8, 4),\n",
    "        \"1111111110111001\" : (8, 5),\n",
    "        \"1111111110111010\" : (8, 6),\n",
    "        \"1111111110111011\" : (8, 7),\n",
    "        \"1111111110111100\" : (8, 8),\n",
    "        \"1111111110111101\" : (8, 9),\n",
    "        \"1111111110111110\" : (8, 10),\n",
    "\n",
    "        \"111111000\"        : (9, 1),\n",
    "        \"1111111110111111\" : (9, 2),\n",
    "        \"1111111111000000\" : (9, 3),\n",
    "        \"1111111111000001\" : (9, 4),\n",
    "        \"1111111111000010\" : (9, 5),\n",
    "        \"1111111111000011\" : (9, 6),\n",
    "        \"1111111111000100\" : (9, 7),\n",
    "        \"1111111111000101\" : (9, 8),\n",
    "        \"1111111111000110\" : (9, 9),\n",
    "        \"1111111111000111\" : (9, 10),\n",
    "\n",
    "        \"111111001\"        : (10, 1),\n",
    "        \"1111111111001000\" : (10, 2),\n",
    "        \"1111111111001001\" : (10, 3),\n",
    "        \"1111111111001010\" : (10, 4),\n",
    "        \"1111111111001011\" : (10, 5),\n",
    "        \"1111111111001100\" : (10, 6),\n",
    "        \"1111111111001101\" : (10, 7),\n",
    "        \"1111111111001110\" : (10, 8),\n",
    "        \"1111111111001111\" : (10, 9),\n",
    "        \"1111111111010000\" : (10, 10),\n",
    "\n",
    "        \"111111010\"        : (11, 1),\n",
    "        \"1111111111010001\" : (11, 2),\n",
    "        \"1111111111000010\" : (11, 3),\n",
    "        \"1111111111010011\" : (11, 4),\n",
    "        \"1111111111010100\" : (11, 5),\n",
    "        \"1111111111010101\" : (11, 6),\n",
    "        \"1111111111010110\" : (11, 7),\n",
    "        \"1111111111010111\" : (11, 8),\n",
    "        \"1111111111011000\" : (11, 9),\n",
    "        \"1111111111011001\" : (11, 10),\n",
    "\n",
    "        \"1111111010\"       : (12, 1),\n",
    "        \"1111111111011010\" : (12, 2),\n",
    "        \"1111111111011011\" : (12, 3),\n",
    "        \"1111111111011100\" : (12, 4),\n",
    "        \"1111111111011101\" : (12, 5),\n",
    "        \"1111111111011110\" : (12, 6),\n",
    "        \"1111111111011111\" : (12, 7),\n",
    "        \"1111111111100000\" : (12, 8),\n",
    "        \"1111111111100001\" : (12, 9),\n",
    "        \"1111111111100010\" : (12, 10),\n",
    "\n",
    "        \"11111111010\"      : (13, 1),\n",
    "        \"1111111111100011\" : (13, 2),\n",
    "        \"1111111111100100\" : (13, 3),\n",
    "        \"1111111111100101\" : (13, 4),\n",
    "        \"1111111111100110\" : (13, 5),\n",
    "        \"1111111111101111\" : (13, 6),\n",
    "        \"1111111111101000\" : (13, 7),\n",
    "        \"1111111111101001\" : (13, 8),\n",
    "        \"1111111111101010\" : (13, 9),\n",
    "        \"1111111111101011\" : (13, 10),\n",
    "\n",
    "        \"111111110110\"     : (14, 1),\n",
    "        \"1111111111101100\" : (14, 2),\n",
    "        \"1111111111101101\" : (14, 3),\n",
    "        \"1111111111101110\" : (14, 4),\n",
    "        \"1111111111101111\" : (14, 5),\n",
    "        \"1111111111110000\" : (14, 6),\n",
    "        \"1111111111110001\" : (14, 7),\n",
    "        \"1111111111110010\" : (14, 8),\n",
    "        \"1111111111110011\" : (14, 9),\n",
    "        \"1111111111110100\" : (14, 10),\n",
    "\n",
    "        \"111111110111\"     : (15, 1),\n",
    "        \"1111111111110101\" : (15, 2),\n",
    "        \"1111111111110110\" : (15, 3),\n",
    "        \"1111111111110111\" : (15, 4),\n",
    "        \"1111111111111000\" : (15, 5),\n",
    "        \"1111111111111001\" : (15, 6),\n",
    "        \"1111111111111010\" : (15, 7),\n",
    "        \"1111111111111100\" : (15, 8),\n",
    "        \"1111111111111101\" : (15, 9),\n",
    "        \"1111111111111110\" : (15, 10),\n",
    "    }\n",
    "    AC = []\n",
    "    i = index\n",
    "    while True:\n",
    "        i += 1\n",
    "        if AC_code.get(jpeg[index:i]) is None:\n",
    "            continue\n",
    "        if AC_code.get(jpeg[index:i]) == \"EOB\":\n",
    "            AC.append(AC_code.get(jpeg[index:i]))\n",
    "            return AC\n",
    "        index_end = i + AC_code.get(jpeg[index:i])[1]\n",
    "        for _ in range(AC_code.get(jpeg[index:i])[0]):\n",
    "            AC.append(0)\n",
    "        if jpeg[i] == \"0\":\n",
    "            AC.append(- int(jpeg[i:index_end].replace(\"1\", \"2\").replace(\"0\", \"1\").replace(\"2\", \"0\"), 2))\n",
    "        else:\n",
    "            AC.append(int(jpeg[i:index_end], 2))\n",
    "        i = index_end\n",
    "        index = index_end\n"
   ]
  },
  {
   "cell_type": "code",
   "execution_count": 105,
   "metadata": {},
   "outputs": [],
   "source": [
    "def extract(jpeg : str, last_value : int = 0) -> list[int]:\n",
    "    image, index = extractDC(jpeg, last_value)\n",
    "    image.extend(extractAC(jpeg, index))\n",
    "    return image\n"
   ]
  },
  {
   "cell_type": "code",
   "execution_count": 106,
   "metadata": {},
   "outputs": [],
   "source": [
    "def list_to_zigzag(zigzag : list[int]) -> numpy.ndarray:\n",
    "    def sort(position):\n",
    "        x, y = position\n",
    "        return (x + y, -y if (x + y) % 2 else y)\n",
    "    index = range(8)\n",
    "    image = numpy.zeros((8, 8))\n",
    "    for index, (x, y) in enumerate(sorted(((x, y) for x in index for y in index), key = sort)):\n",
    "        if zigzag[index] == \"EOB\":\n",
    "            break\n",
    "        image[x][y] = zigzag[index]\n",
    "    return image"
   ]
  },
  {
   "cell_type": "code",
   "execution_count": 107,
   "metadata": {},
   "outputs": [],
   "source": [
    "def JDm1_calcul(image : numpy.ndarray, d8 : numpy.ndarray, around : int = 2) -> numpy.ndarray:\n",
    "    return numpy.around(numpy.linalg.inv(d8).dot(image).dot(d8), around)"
   ]
  },
  {
   "cell_type": "code",
   "execution_count": 108,
   "metadata": {},
   "outputs": [
    {
     "name": "stdout",
     "output_type": "stream",
     "text": [
      "[[ 67.28  41.02  37.27  64.57  80.37  71.64  69.95  82.65]\n",
      " [ 69.89  49.85  54.8   88.03 103.27  87.59  76.42  82.47]\n",
      " [ 69.65  57.93  74.48 115.48 129.7  104.36  80.15  77.1 ]\n",
      " [ 65.08  58.02  80.95 125.89 138.77 107.02  74.54  65.8 ]\n",
      " [ 64.03  54.1   72.72 114.   125.44  94.68  64.46  57.49]\n",
      " [ 76.04  56.13  60.41  90.98 101.09  78.56  60.79  62.78]\n",
      " [ 99.24  66.94  53.55  71.18  80.26  68.78  67.25  80.84]\n",
      " [118.43  77.71  52.3   61.21  69.74  65.96  75.65  97.25]]\n"
     ]
    },
    {
     "data": {
      "text/plain": [
       "<matplotlib.image.AxesImage at 0x7f974b284d90>"
      ]
     },
     "execution_count": 108,
     "metadata": {},
     "output_type": "execute_result"
    },
    {
     "data": {
      "image/png": "[encoded data removed]",
      "text/plain": [
       "<Figure size 432x288 with 1 Axes>"
      ]
     },
     "metadata": {
      "needs_background": "light"
     },
     "output_type": "display_data"
    }
   ],
   "source": [
    "print(JDm1_calcul(list_to_zigzag(extract(encode(zigzag_ordering(numpy.around(quantized(DCT(image() - 128), coefficient(16)), 0).astype(int)), -33), -33)) * coefficient(16),  numpy.fromfunction(d8_value, shape=(8, 8))) + 128)\n",
    "\n",
    "plt.imshow(JDm1_calcul(list_to_zigzag(extract(encode(zigzag_ordering(numpy.around(quantized(DCT(image() - 128), coefficient(16)), 0).astype(int)), -33), -33)) * coefficient(16),  numpy.fromfunction(d8_value, shape=(8, 8))) + 128, cmap = \"gray\", vmin = 0, vmax = 255)\n"
   ]
  }
 ],
 "metadata": {
  "interpreter": {
   "hash": "916dbcbb3f70747c44a77c7bcd40155683ae19c65e1c03b4aa3499c5328201f1"
  },
  "kernelspec": {
   "display_name": "Python 3.9.7 64-bit",
   "language": "python",
   "name": "python3"
  },
  "language_info": {
   "codemirror_mode": {
    "name": "ipython",
    "version": 3
   },
   "file_extension": ".py",
   "mimetype": "text/x-python",
   "name": "python",
   "nbconvert_exporter": "python",
   "pygments_lexer": "ipython3",
   "version": "3.9.7"
  },
  "orig_nbformat": 4
 },
 "nbformat": 4,
 "nbformat_minor": 2
}
